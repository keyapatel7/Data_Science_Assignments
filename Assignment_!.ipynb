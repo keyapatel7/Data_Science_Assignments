{
 "cells": [
  {
   "cell_type": "markdown",
   "id": "49830784-dc4f-4d72-8888-03df62a6ec88",
   "metadata": {},
   "source": [
    "Q1. Create one variable containing following type of data:\n",
    "(i) string\n",
    "(ii) list\n",
    "(iii) float\n",
    "(iv) tuple\n"
   ]
  },
  {
   "cell_type": "code",
   "execution_count": 4,
   "id": "88c65a65-b71d-4173-88e4-3b8b5c960ebd",
   "metadata": {},
   "outputs": [
    {
     "name": "stdout",
     "output_type": "stream",
     "text": [
      "String\n",
      "[1, 3, 4, 'apple', True]\n",
      "4.5\n",
      "(5, 'Banana', 7)\n"
     ]
    }
   ],
   "source": [
    "a = 'String'\n",
    "b = [1,3,4,'apple',True]\n",
    "c = 4.5\n",
    "d = (5,'Banana',7)\n",
    "print(a)\n",
    "print(b)\n",
    "print(c)\n",
    "print(d)\n"
   ]
  },
  {
   "cell_type": "markdown",
   "id": "af5f5dda-5f7c-4e63-87bb-87eddce23115",
   "metadata": {},
   "source": [
    "Q2. Given are some following variables containing data:\n",
    "(i) var1 = ‘ ‘\n",
    "(ii) var2 = ‘[ DS , ML , Python]’\n",
    "(iii) var3 = [ ‘DS’ , ’ML’ , ‘Python’ ]\n",
    "(iv) var4 = 1.\n",
    "What will be the data type of the above given variable.\n"
   ]
  },
  {
   "cell_type": "code",
   "execution_count": 8,
   "id": "cc17da30-06b7-451d-a841-efbc09dcbfb3",
   "metadata": {},
   "outputs": [
    {
     "data": {
      "text/plain": [
       "str"
      ]
     },
     "execution_count": 8,
     "metadata": {},
     "output_type": "execute_result"
    }
   ],
   "source": [
    "var1=''\n",
    "var2='[DS,ML,Python]'\n",
    "var3=['DS','ML','Python']\n",
    "var4 = 1\n",
    "type(var1)\n"
   ]
  },
  {
   "cell_type": "code",
   "execution_count": 9,
   "id": "64346f23-9b14-4587-a949-7e9c2c0612a7",
   "metadata": {},
   "outputs": [
    {
     "data": {
      "text/plain": [
       "str"
      ]
     },
     "execution_count": 9,
     "metadata": {},
     "output_type": "execute_result"
    }
   ],
   "source": [
    "type(var2)"
   ]
  },
  {
   "cell_type": "code",
   "execution_count": 10,
   "id": "de626dab-5bba-46f4-ae33-a0f7064fc8fc",
   "metadata": {},
   "outputs": [
    {
     "data": {
      "text/plain": [
       "list"
      ]
     },
     "execution_count": 10,
     "metadata": {},
     "output_type": "execute_result"
    }
   ],
   "source": [
    "\n",
    "type(var3)"
   ]
  },
  {
   "cell_type": "code",
   "execution_count": 11,
   "id": "8543072d-1705-46c8-a472-bc3ce03d5b4f",
   "metadata": {},
   "outputs": [
    {
     "data": {
      "text/plain": [
       "int"
      ]
     },
     "execution_count": 11,
     "metadata": {},
     "output_type": "execute_result"
    }
   ],
   "source": [
    "type(var4)"
   ]
  },
  {
   "cell_type": "markdown",
   "id": "c412b8e2-7fdc-4eec-a9f3-bdab09710f7b",
   "metadata": {},
   "source": [
    "Q3. Explain the use of the following operators using an example:\n",
    "(i) /\n",
    "(ii) %\n",
    "(iii) //\n",
    "(iv) **"
   ]
  },
  {
   "cell_type": "markdown",
   "id": "aa61aea3-d592-4091-b816-daca8731e481",
   "metadata": {},
   "source": [
    "/ = Divide Operator"
   ]
  },
  {
   "cell_type": "code",
   "execution_count": 14,
   "id": "d090478f-0881-4f47-a109-d3a0cb257949",
   "metadata": {},
   "outputs": [
    {
     "name": "stdout",
     "output_type": "stream",
     "text": [
      "2.0\n"
     ]
    }
   ],
   "source": [
    "a = 4/2\n",
    "print(a)"
   ]
  },
  {
   "cell_type": "markdown",
   "id": "089a9560-a78a-4350-bd01-9874c6a1a138",
   "metadata": {},
   "source": [
    "% = Modulus"
   ]
  },
  {
   "cell_type": "code",
   "execution_count": 16,
   "id": "0da7a4cc-101b-47eb-82a0-56db347c3c6f",
   "metadata": {},
   "outputs": [
    {
     "name": "stdout",
     "output_type": "stream",
     "text": [
      "1\n"
     ]
    }
   ],
   "source": [
    "a = 15%7\n",
    "print(a)"
   ]
  },
  {
   "cell_type": "markdown",
   "id": "a1094294-732e-4d9f-ba71-491f34e9387a",
   "metadata": {},
   "source": [
    "// = Floor Division"
   ]
  },
  {
   "cell_type": "code",
   "execution_count": 17,
   "id": "4486a76e-db85-42f1-86fb-0ca3919ba632",
   "metadata": {},
   "outputs": [
    {
     "name": "stdout",
     "output_type": "stream",
     "text": [
      "2\n"
     ]
    }
   ],
   "source": [
    "a = 16 // 8\n",
    "print(a)"
   ]
  },
  {
   "cell_type": "markdown",
   "id": "56832553-9b03-4a4a-9b74-6133301de407",
   "metadata": {},
   "source": [
    "** = Exponential"
   ]
  },
  {
   "cell_type": "code",
   "execution_count": 18,
   "id": "49ebd8d7-22f5-4a30-8937-e87652f96c60",
   "metadata": {},
   "outputs": [
    {
     "name": "stdout",
     "output_type": "stream",
     "text": [
      "8\n"
     ]
    }
   ],
   "source": [
    "a = 2**3\n",
    "print(a)"
   ]
  },
  {
   "cell_type": "markdown",
   "id": "350e48a7-e79c-421c-8f22-6b8d3e577906",
   "metadata": {},
   "source": [
    "Q4. Create a list of length 10 of your choice containing multiple types of data. Using for loop print the\n",
    "element and its data type."
   ]
  },
  {
   "cell_type": "code",
   "execution_count": null,
   "id": "b48bfbfa-20c6-43fc-a025-534713c97d28",
   "metadata": {},
   "outputs": [],
   "source": [
    "l = [ 77, 3,True,'Hello','World',7.8,False,8.09,7]\n",
    "for i in l:\n",
    "    print(i,type(i))"
   ]
  },
  {
   "cell_type": "markdown",
   "id": "dcb91913-9929-4e5d-835b-49bf91bbf0e1",
   "metadata": {},
   "source": [
    "Q6. Create a list containing 25 int type data. Using for loop and if-else condition print if the element is\n",
    "divisible by 3 or not."
   ]
  },
  {
   "cell_type": "code",
   "execution_count": null,
   "id": "516f4c61-8246-4f73-b854-2d544e167956",
   "metadata": {},
   "outputs": [],
   "source": [
    "l = [ 22, 33, 45,67,66,69,22,21,39,77,78,36,93,63,87,27,99,28,32,45,76,64,999,333,56]\n",
    "for i in  l:\n",
    "    if(i%3 == 0):\n",
    "        print(i,end='element is divisible by 3\\n')\n",
    "    else:\n",
    "        print(i,end='element is not Divisible by 3\\n')"
   ]
  },
  {
   "cell_type": "code",
   "execution_count": null,
   "id": "d9ee778e-be7b-4936-b62b-5b7561662ab9",
   "metadata": {},
   "outputs": [],
   "source": []
  },
  {
   "cell_type": "code",
   "execution_count": null,
   "id": "f752a24b-1575-4425-a8c2-07c35c148a79",
   "metadata": {},
   "outputs": [],
   "source": []
  },
  {
   "cell_type": "code",
   "execution_count": null,
   "id": "a1383f0e-4648-438d-9738-3d8b13171005",
   "metadata": {},
   "outputs": [],
   "source": []
  },
  {
   "cell_type": "code",
   "execution_count": null,
   "id": "0e9cb72f-f05a-4432-a867-0ec5ee549b56",
   "metadata": {},
   "outputs": [],
   "source": []
  }
 ],
 "metadata": {
  "kernelspec": {
   "display_name": "Python 3 (ipykernel)",
   "language": "python",
   "name": "python3"
  },
  "language_info": {
   "codemirror_mode": {
    "name": "ipython",
    "version": 3
   },
   "file_extension": ".py",
   "mimetype": "text/x-python",
   "name": "python",
   "nbconvert_exporter": "python",
   "pygments_lexer": "ipython3",
   "version": "3.10.8"
  }
 },
 "nbformat": 4,
 "nbformat_minor": 5
}
